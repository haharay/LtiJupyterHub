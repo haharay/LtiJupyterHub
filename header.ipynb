{
 "cells": [
  {
   "cell_type": "markdown",
   "metadata": {},
   "source": [
    "# Activité Python\n",
    "\n",
    "Complétez le document ci-dessous. Vous validerez les cellules au fur-à-mesure en prenant le temps de lire attentivement les consignes.\n",
    "\n",
    "Certaines cellules contiennent ce texte :\n",
    "    # YOUR CODE HERE\n",
    "    raise NotImplementedError()\n",
    "Vous **remplacerez** ce contenu par votre propre programme ou fonction afin de répondre au problème posé. Ce code est conçu pour provoquer une erreur si vous ne traitez pas la question.\n",
    "\n",
    "Une fois le document complété, n'oubliez pas de cliquer sur le bouton **submit** dans l'onglet *assignments*.\n",
    "\n",
    "Ce *notebook* peut être considéré comme un cahier interactif. N'hésitez pas à vous l'approprier en ajoutant des cellules de texte ou de code selon vos besoins !"
   ]
  }
 ],
 "metadata": {
  "kernelspec": {
   "display_name": "Python 3",
   "language": "python",
   "name": "python3"
  },
  "language_info": {
   "codemirror_mode": {
    "name": "ipython",
    "version": 3
   },
   "file_extension": ".py",
   "mimetype": "text/x-python",
   "name": "python",
   "nbconvert_exporter": "python",
   "pygments_lexer": "ipython3",
   "version": "3.6.7"
  }
 },
 "nbformat": 4,
 "nbformat_minor": 2
}
